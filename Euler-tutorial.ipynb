{
 "cells": [
  {
   "cell_type": "markdown",
   "metadata": {},
   "source": [
    "# Importar modulos"
   ]
  },
  {
   "cell_type": "code",
   "execution_count": 15,
   "metadata": {},
   "outputs": [],
   "source": [
    "import numpy as np # neste caso para criacao de uma lista tempo\n",
    "import matplotlib.pyplot as plt # plotar os graficos"
   ]
  },
  {
   "cell_type": "markdown",
   "metadata": {},
   "source": [
    "# Lista tempo"
   ]
  },
  {
   "cell_type": "code",
   "execution_count": 16,
   "metadata": {},
   "outputs": [],
   "source": [
    "inicio = 0 # em horas\n",
    "final = 24 # em horas\n",
    "delta_t = 1e-4\n",
    "tempo = np.arange(inicio, final, delta_t)\n",
    "n = len(tempo) # comprimento da lista tempo"
   ]
  },
  {
   "cell_type": "markdown",
   "metadata": {},
   "source": [
    "# Lista que comtem os estoques\n",
    "Armazenar os valores de massa por exemplo, dos estoques ao longo do tempo"
   ]
  },
  {
   "cell_type": "code",
   "execution_count": 17,
   "metadata": {},
   "outputs": [],
   "source": [
    "H = [15] # massa total ja no estomago\n",
    "S = [0] # massa da substancia no sangue"
   ]
  },
  {
   "cell_type": "markdown",
   "metadata": {},
   "source": [
    "# Constantes"
   ]
  },
  {
   "cell_type": "code",
   "execution_count": 18,
   "metadata": {},
   "outputs": [],
   "source": [
    "k = 0.6 \n",
    "ks = 0.01"
   ]
  },
  {
   "cell_type": "markdown",
   "metadata": {},
   "source": [
    "# Loop para percorrer a massa em referencia ao tempo"
   ]
  },
  {
   "cell_type": "code",
   "execution_count": 19,
   "metadata": {},
   "outputs": [],
   "source": [
    "for atual in range(1, n): # comeca no 1 para percorrer o elemento anterior, \n",
    "                        #atual = [1] -> atual - 1 = elemento[0] da lista, o primeiro.\n",
    "    dEdt = -k*H[atual-1]\n",
    "    dSdt = k*H[atual-1] - ks*S[atual-1]\n",
    "    H.append(H[atual-1] + dEdt*delta_t)\n",
    "    S.append(S[atual-1] + dSdt*delta_t)"
   ]
  },
  {
   "cell_type": "markdown",
   "metadata": {},
   "source": [
    "# Gerar graficos"
   ]
  },
  {
   "cell_type": "code",
   "execution_count": 20,
   "metadata": {},
   "outputs": [
    {
     "data": {
      "image/png": "[encoded data removed]",
      "text/plain": [
       "<Figure size 432x288 with 1 Axes>"
      ]
     },
     "metadata": {
      "needs_background": "light"
     },
     "output_type": "display_data"
    }
   ],
   "source": [
    "plt.plot(tempo, H, label=('H')) #label=('comentario') comenta o estoque H\n",
    "#plt.plot(tempo, H, 'cor',  label=('teste'))\n",
    "plt.plot(tempo, S, label=('S')) #label=('comentario') comenta o estoque H\n",
    "plt.title('Titulo que vc quizer') # poe titulo no grafico\n",
    "plt.xlabel('comenta o eixo x')\n",
    "plt.ylabel('comenta o eixo y')\n",
    "plt.legend() # ativa comentarios dos eixos\n",
    "plt.grid(True) # colocar grade no grafico\n",
    "plt.show()\n"
   ]
  },
  {
   "cell_type": "markdown",
   "metadata": {},
   "source": [
    "Celso Diniz"
   ]
  }
 ],
 "metadata": {
  "kernelspec": {
   "display_name": "Python 3",
   "language": "python",
   "name": "python3"
  },
  "language_info": {
   "codemirror_mode": {
    "name": "ipython",
    "version": 3
   },
   "file_extension": ".py",
   "mimetype": "text/x-python",
   "name": "python",
   "nbconvert_exporter": "python",
   "pygments_lexer": "ipython3",
   "version": "3.7.1"
  }
 },
 "nbformat": 4,
 "nbformat_minor": 2
}
